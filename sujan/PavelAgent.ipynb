{
 "cells": [
  {
   "cell_type": "code",
   "execution_count": 1,
   "metadata": {},
   "outputs": [
    {
     "name": "stderr",
     "output_type": "stream",
     "text": [
      "/Library/Frameworks/Python.framework/Versions/3.12/lib/python3.12/site-packages/pinecone/data/index.py:1: TqdmWarning: IProgress not found. Please update jupyter and ipywidgets. See https://ipywidgets.readthedocs.io/en/stable/user_install.html\n",
      "  from tqdm.autonotebook import tqdm\n"
     ]
    }
   ],
   "source": [
    "# %%\n",
    "import os\n",
    "import nest_asyncio\n",
    "import pandas as pd\n",
    "import asyncio\n",
    "import json\n",
    "from typing import List, Sequence, Dict, Any\n",
    "\n",
    "import openai\n",
    "from toolhouse import Toolhouse\n",
    "from llama_index.core.tools import FunctionTool, BaseTool\n",
    "from llama_index.llms.openai import OpenAI\n",
    "from llama_index.core.schema import NodeWithScore\n",
    "from llama_index.core.workflow import Workflow, step, Context, StartEvent, StopEvent\n",
    "from llama_index.core import (\n",
    "    ServiceContext, SimpleDirectoryReader, Document, StorageContext, Prompt, GPTVectorStoreIndex,\n",
    "    VectorStoreIndex, SummaryIndex\n",
    ")\n",
    "from llama_index.vector_stores.pinecone import PineconeVectorStore\n",
    "from llama_index.embeddings.openai import OpenAIEmbedding\n",
    "from llama_index.core.types import ChatMessage, MessageRole\n",
    "from pydantic import BaseModel, Field\n",
    "\n",
    "from pinecone import Pinecone, ServerlessSpec\n",
    "\n",
    "from llama_parse import LlamaParse\n",
    "\n",
    "from IPython.display import Markdown, display\n",
    "\n",
    "from llama_index.agent.openai import OpenAIAgent\n",
    "\n",
    "from llama_index.core import SimpleDirectoryReader, VectorStoreIndex, Settings\n",
    "\n",
    "# Apply nest_asyncio to allow nested event loops (useful in Jupyter notebooks)\n",
    "nest_asyncio.apply()"
   ]
  },
  {
   "cell_type": "code",
   "execution_count": 2,
   "metadata": {},
   "outputs": [
    {
     "data": {
      "text/plain": [
       "True"
      ]
     },
     "execution_count": 2,
     "metadata": {},
     "output_type": "execute_result"
    }
   ],
   "source": [
    "from pinecone import ServerlessSpec\n",
    "\n",
    "from llama_index.vector_stores.pinecone import PineconeVectorStore\n",
    "from llama_index.core.tools import QueryEngineTool\n",
    "from dotenv import load_dotenv\n",
    "load_dotenv()"
   ]
  },
  {
   "cell_type": "code",
   "execution_count": 3,
   "metadata": {},
   "outputs": [],
   "source": [
    "openai_api_key = os.getenv(\"OPENAI_API_KEY\")\n",
    "pinecone_api_key = os.getenv(\"PINECONE_API_KEY\")\n",
    "toolhouse_api_key = os.getenv(\"TOOLHOUSE_API_KEY\")\n",
    "tavily_api_key = os.getenv(\"TAVILY_API_KEY\")"
   ]
  },
  {
   "cell_type": "code",
   "execution_count": 4,
   "metadata": {},
   "outputs": [],
   "source": [
    "Settings.llm = OpenAI(model=\"gpt-4o-mini\", temperature=0)\n"
   ]
  },
  {
   "cell_type": "code",
   "execution_count": 5,
   "metadata": {},
   "outputs": [],
   "source": [
    "# Defining the system prompt for the agent to reconcile column values\n",
    "system_prompt_agent = (\n",
    "    \"You are an AI assistant that helps reconcile inconsistent car data values in a dataset.\\n\"\n",
    "    \"For each value, analyze the column-level context provided.\\n\"\n",
    "    \"If different terms refer to the same entity (e.g., 'Chevy' and 'Chevrolet'), correct the value to the standard form.\\n\"\n",
    "    \"So, in this dataset, for example, 'Chevy' and 'Chevrolet' refer to the same entity, so standardize all 'Chevy' values to 'Chevrolet'.\\n\"\n",
    "    \"Ensure the corrected value is consistent across all rows.\\n\"\n",
    "    \"Provide only the corrected value in JSON format without additional text.\\n\"\n",
    ")"
   ]
  },
  {
   "cell_type": "code",
   "execution_count": 6,
   "metadata": {},
   "outputs": [],
   "source": [
    "# %%\n",
    "agent = OpenAIAgent.from_tools(\n",
    "    llm=Settings.llm,\n",
    "    verbose=True,\n",
    "    system_prompt=system_prompt_agent,\n",
    "    memory=None\n",
    "    \n",
    ")"
   ]
  },
  {
   "cell_type": "code",
   "execution_count": 7,
   "metadata": {},
   "outputs": [],
   "source": [
    "def get_unique_values_by_index(dataset: pd.DataFrame, column_index: int):\n",
    "    return dataset.iloc[:, column_index].unique()"
   ]
  },
  {
   "cell_type": "code",
   "execution_count": 8,
   "metadata": {},
   "outputs": [],
   "source": [
    "def update_column_with_mapping(df: pd.DataFrame, col_idx: int, mapping: Dict[str, str]):\n",
    "    # Map the values, but leave non-matching values unchanged\n",
    "    df.iloc[:, col_idx] = df.iloc[:, col_idx].apply(lambda x: mapping.get(x, x))\n",
    "    return df\n"
   ]
  },
  {
   "cell_type": "code",
   "execution_count": 9,
   "metadata": {},
   "outputs": [
    {
     "name": "stdout",
     "output_type": "stream",
     "text": [
      "Dataset with null values:\n",
      "    id          brand               model  model_year    milage      fuel_type\n",
      "0    0           MINI       Cooper S Base        2007  213000.0       Gasoline\n",
      "1    1        Lincoln               LS V8        2003  143250.0       Gasoline\n",
      "2    2          Chevy   Silverado 2500 LT        2002  136731.0  E85 Flex Fuel\n",
      "3    3        Genesis    G90 5.0 Ultimate        2017   19500.0       Gasoline\n",
      "4    4  Mercedes-Benz         Metris Base        2021    7388.0       Gasoline\n",
      "5    5           Audi       A6 2.0T Sport        2018  213000.0       Gasoline\n",
      "6    6           Audi           A8 L 3.0T        2024   62200.0       Gasoline\n",
      "7    7      Chevrolet  Silverado 1500 1LZ        2016   20000.0  E85 Flex Fuel\n",
      "8    8           Ford           F-150 XLT        2020   38352.0       Gasoline\n",
      "9    9            BMW             M4 Base        2015   74850.0       Gasoline\n",
      "10  10          Chevy   Silverado 1500 LT        2021   80000.0       Gasoline\n",
      "11  11        Lincoln               LS V8        2004  125000.0       Gasoline\n",
      "12  12      Chevrolet   Silverado 2500 HD        2003  200000.0  E85 Flex Fuel\n",
      "13  13        Genesis    G80 3.8 Ultimate        2020   12000.0       Gasoline\n",
      "14  14  Mercedes-Benz             GLA 250        2022    5000.0       Gasoline\n",
      "15  15           Ford            F-150 XL        2021   25000.0       Gasoline\n",
      "16  16            BMW        X5 xDrive40i        2023   30000.0       Gasoline\n",
      "17  17           MINI           Cooper SE        2022    5000.0       Electric\n",
      "18  18           Audi     Q7 3.0T Premium        2023    9000.0       Gasoline\n",
      "19  19        Genesis            G90 3.3T        2021   15000.0       Gasoline\n"
     ]
    }
   ],
   "source": [
    "# %%\n",
    "dataset_with_nulls = pd.read_csv('car_data_with_synonyms.csv')\n",
    "print(\"Dataset with null values:\")\n",
    "print(dataset_with_nulls.head(20))"
   ]
  },
  {
   "cell_type": "code",
   "execution_count": 10,
   "metadata": {},
   "outputs": [],
   "source": [
    "def enhance_values(agent, dataset: pd.DataFrame, column_index: int):\n",
    "    uniq = get_unique_values_by_index(dataset, column_index)\n",
    "    \n",
    "    # Convert unique values into a string representation\n",
    "    quote = list(map(lambda x: f\"'{x}'\", uniq))\n",
    "    mk_str = ', '.join(quote)\n",
    "    \n",
    "    # Build the query string to send to the agent\n",
    "    query_str = (\n",
    "        f\"{system_prompt_agent}\\n\"\n",
    "        f\"I have a dataset with the following unique values in a column: [{mk_str}]. \"\n",
    "        \"Could you identify values that refer to the same entity and build a map to standardize them? \"\n",
    "        \"Return only JSON mapping, no additional text.\"\n",
    "    )\n",
    "    \n",
    "    # Reset the agent to avoid residual memory effects\n",
    "    agent.reset()\n",
    "    \n",
    "    try:\n",
    "        # Send the query to the agent and get the result\n",
    "        result = agent.chat(query_str).response\n",
    "        \n",
    "        # Print the raw response to debug\n",
    "        print(f\"Raw agent response: {result}\")\n",
    "        \n",
    "        # Clean the result by removing the ```json wrapper\n",
    "        if result.startswith(\"```json\"):\n",
    "            result = result.strip(\"```json\").strip(\"```\")\n",
    "        \n",
    "        # Parse the result as JSON\n",
    "        mapping = json.loads(result)\n",
    "        print(f\"Updating column '{column_index}' with mapping: {mapping}\")\n",
    "        \n",
    "        # Apply the mapping to update the specified column\n",
    "        dataset = update_column_with_mapping(dataset, column_index, mapping)\n",
    "        \n",
    "    except json.JSONDecodeError as e:\n",
    "        print(f\"Error parsing the agent response: {e}\")\n",
    "    \n",
    "    except Exception as e:\n",
    "        print(f\"An unexpected error occurred: {e}\")\n",
    "\n",
    "    return dataset\n"
   ]
  },
  {
   "cell_type": "code",
   "execution_count": 14,
   "metadata": {},
   "outputs": [
    {
     "name": "stdout",
     "output_type": "stream",
     "text": [
      "Added user message to memory: You are an AI assistant that helps reconcile inconsistent car data values in a dataset.\n",
      "For each value, analyze the column-level context provided.\n",
      "If different terms refer to the same entity (e.g., 'Chevy' and 'Chevrolet'), correct the value to the standard form.\n",
      "So, in this dataset, for example, 'Chevy' and 'Chevrolet' refer to the same entity, so standardize all 'Chevy' values to 'Chevrolet'.\n",
      "Ensure the corrected value is consistent across all rows.\n",
      "Provide only the corrected value in JSON format without additional text.\n",
      "\n",
      "I have a dataset with the following unique values in a column: ['Cooper S Base', 'LS V8', 'Silverado 2500 LT', 'G90 5.0 Ultimate', 'Metris Base', 'A6 2.0T Sport', 'A8 L 3.0T', 'Silverado 1500 1LZ', 'F-150 XLT', 'M4 Base', 'Silverado 1500 LT', 'Silverado 2500 HD', 'G80 3.8 Ultimate', 'GLA 250', 'F-150 XL', 'X5 xDrive40i', 'Cooper SE', 'Q7 3.0T Premium', 'G90 3.3T']. Could you identify values that refer to the same entity and build a map to standardize them? Return only JSON mapping, no additional text.\n",
      "Raw agent response: ```json\n",
      "{\n",
      "    \"Cooper S Base\": \"Mini Cooper S Base\",\n",
      "    \"Cooper SE\": \"Mini Cooper SE\",\n",
      "    \"LS V8\": \"Chevrolet LS V8\",\n",
      "    \"Silverado 2500 LT\": \"Chevrolet Silverado 2500 LT\",\n",
      "    \"Silverado 1500 1LZ\": \"Chevrolet Silverado 1500 1LZ\",\n",
      "    \"Silverado 1500 LT\": \"Chevrolet Silverado 1500 LT\",\n",
      "    \"Silverado 2500 HD\": \"Chevrolet Silverado 2500 HD\",\n",
      "    \"G90 5.0 Ultimate\": \"Genesis G90 5.0 Ultimate\",\n",
      "    \"G80 3.8 Ultimate\": \"Genesis G80 3.8 Ultimate\",\n",
      "    \"A6 2.0T Sport\": \"Audi A6 2.0T Sport\",\n",
      "    \"A8 L 3.0T\": \"Audi A8 L 3.0T\",\n",
      "    \"F-150 XLT\": \"Ford F-150 XLT\",\n",
      "    \"F-150 XL\": \"Ford F-150 XL\",\n",
      "    \"Metris Base\": \"Mercedes-Benz Metris Base\",\n",
      "    \"M4 Base\": \"BMW M4 Base\",\n",
      "    \"GLA 250\": \"Mercedes-Benz GLA 250\",\n",
      "    \"X5 xDrive40i\": \"BMW X5 xDrive40i\",\n",
      "    \"Q7 3.0T Premium\": \"Audi Q7 3.0T Premium\"\n",
      "}\n",
      "```\n",
      "Updating column '2' with mapping: {'Cooper S Base': 'Mini Cooper S Base', 'Cooper SE': 'Mini Cooper SE', 'LS V8': 'Chevrolet LS V8', 'Silverado 2500 LT': 'Chevrolet Silverado 2500 LT', 'Silverado 1500 1LZ': 'Chevrolet Silverado 1500 1LZ', 'Silverado 1500 LT': 'Chevrolet Silverado 1500 LT', 'Silverado 2500 HD': 'Chevrolet Silverado 2500 HD', 'G90 5.0 Ultimate': 'Genesis G90 5.0 Ultimate', 'G80 3.8 Ultimate': 'Genesis G80 3.8 Ultimate', 'A6 2.0T Sport': 'Audi A6 2.0T Sport', 'A8 L 3.0T': 'Audi A8 L 3.0T', 'F-150 XLT': 'Ford F-150 XLT', 'F-150 XL': 'Ford F-150 XL', 'Metris Base': 'Mercedes-Benz Metris Base', 'M4 Base': 'BMW M4 Base', 'GLA 250': 'Mercedes-Benz GLA 250', 'X5 xDrive40i': 'BMW X5 xDrive40i', 'Q7 3.0T Premium': 'Audi Q7 3.0T Premium'}\n"
     ]
    }
   ],
   "source": [
    "completed_dataset = enhance_values(agent, dataset_with_nulls, column_index=2)\n"
   ]
  },
  {
   "cell_type": "code",
   "execution_count": 15,
   "metadata": {},
   "outputs": [
    {
     "name": "stdout",
     "output_type": "stream",
     "text": [
      "Completed dataset:\n",
      "    id          brand                         model  model_year    milage  \\\n",
      "0    0           MINI            Mini Cooper S Base        2007  213000.0   \n",
      "1    1        Lincoln               Chevrolet LS V8        2003  143250.0   \n",
      "2    2      Chevrolet   Chevrolet Silverado 2500 LT        2002  136731.0   \n",
      "3    3        Genesis      Genesis G90 5.0 Ultimate        2017   19500.0   \n",
      "4    4  Mercedes-Benz     Mercedes-Benz Metris Base        2021    7388.0   \n",
      "5    5           Audi            Audi A6 2.0T Sport        2018  213000.0   \n",
      "6    6           Audi                Audi A8 L 3.0T        2024   62200.0   \n",
      "7    7      Chevrolet  Chevrolet Silverado 1500 1LZ        2016   20000.0   \n",
      "8    8           Ford                Ford F-150 XLT        2020   38352.0   \n",
      "9    9            BMW                   BMW M4 Base        2015   74850.0   \n",
      "10  10      Chevrolet   Chevrolet Silverado 1500 LT        2021   80000.0   \n",
      "11  11        Lincoln               Chevrolet LS V8        2004  125000.0   \n",
      "12  12      Chevrolet   Chevrolet Silverado 2500 HD        2003  200000.0   \n",
      "13  13        Genesis      Genesis G80 3.8 Ultimate        2020   12000.0   \n",
      "14  14  Mercedes-Benz         Mercedes-Benz GLA 250        2022    5000.0   \n",
      "15  15           Ford                 Ford F-150 XL        2021   25000.0   \n",
      "16  16            BMW              BMW X5 xDrive40i        2023   30000.0   \n",
      "17  17           MINI                Mini Cooper SE        2022    5000.0   \n",
      "18  18           Audi          Audi Q7 3.0T Premium        2023    9000.0   \n",
      "19  19        Genesis                      G90 3.3T        2021   15000.0   \n",
      "\n",
      "        fuel_type  \n",
      "0        Gasoline  \n",
      "1        Gasoline  \n",
      "2   E85 Flex Fuel  \n",
      "3        Gasoline  \n",
      "4        Gasoline  \n",
      "5        Gasoline  \n",
      "6        Gasoline  \n",
      "7   E85 Flex Fuel  \n",
      "8        Gasoline  \n",
      "9        Gasoline  \n",
      "10       Gasoline  \n",
      "11       Gasoline  \n",
      "12  E85 Flex Fuel  \n",
      "13       Gasoline  \n",
      "14       Gasoline  \n",
      "15       Gasoline  \n",
      "16       Gasoline  \n",
      "17       Electric  \n",
      "18       Gasoline  \n",
      "19       Gasoline  \n"
     ]
    }
   ],
   "source": [
    "completed_dataset.to_csv('completed_car_data2.csv', index=False)\n",
    "print(\"Completed dataset:\")\n",
    "print(completed_dataset.head(20))"
   ]
  }
 ],
 "metadata": {
  "kernelspec": {
   "display_name": "Python 3",
   "language": "python",
   "name": "python3"
  },
  "language_info": {
   "codemirror_mode": {
    "name": "ipython",
    "version": 3
   },
   "file_extension": ".py",
   "mimetype": "text/x-python",
   "name": "python",
   "nbconvert_exporter": "python",
   "pygments_lexer": "ipython3",
   "version": "3.12.4"
  }
 },
 "nbformat": 4,
 "nbformat_minor": 2
}
