{
 "cells": [
  {
   "cell_type": "code",
   "execution_count": 1,
   "metadata": {},
   "outputs": [
    {
     "name": "stderr",
     "output_type": "stream",
     "text": [
      "/Library/Frameworks/Python.framework/Versions/3.12/lib/python3.12/site-packages/pinecone/data/index.py:1: TqdmWarning: IProgress not found. Please update jupyter and ipywidgets. See https://ipywidgets.readthedocs.io/en/stable/user_install.html\n",
      "  from tqdm.autonotebook import tqdm\n"
     ]
    }
   ],
   "source": [
    "# %%\n",
    "import os\n",
    "import nest_asyncio\n",
    "import pandas as pd\n",
    "import asyncio\n",
    "import json\n",
    "from typing import List, Sequence, Dict, Any\n",
    "\n",
    "import openai\n",
    "from toolhouse import Toolhouse\n",
    "from llama_index.core.tools import FunctionTool, BaseTool\n",
    "from llama_index.llms.openai import OpenAI\n",
    "from llama_index.core.schema import NodeWithScore\n",
    "from llama_index.core.workflow import Workflow, step, Context, StartEvent, StopEvent\n",
    "from llama_index.core import (\n",
    "    ServiceContext, SimpleDirectoryReader, Document, StorageContext, Prompt, GPTVectorStoreIndex,\n",
    "    VectorStoreIndex, SummaryIndex\n",
    ")\n",
    "from llama_index.vector_stores.pinecone import PineconeVectorStore\n",
    "from llama_index.embeddings.openai import OpenAIEmbedding\n",
    "from llama_index.core.types import ChatMessage, MessageRole\n",
    "from pydantic import BaseModel, Field\n",
    "\n",
    "from pinecone import Pinecone, ServerlessSpec\n",
    "\n",
    "from llama_parse import LlamaParse\n",
    "\n",
    "from IPython.display import Markdown, display\n",
    "\n",
    "from llama_index.agent.openai import OpenAIAgent\n",
    "\n",
    "from llama_index.core import SimpleDirectoryReader, VectorStoreIndex, Settings\n",
    "\n",
    "# Apply nest_asyncio to allow nested event loops (useful in Jupyter notebooks)\n",
    "nest_asyncio.apply()"
   ]
  },
  {
   "cell_type": "code",
   "execution_count": 2,
   "metadata": {},
   "outputs": [
    {
     "data": {
      "text/plain": [
       "True"
      ]
     },
     "execution_count": 2,
     "metadata": {},
     "output_type": "execute_result"
    }
   ],
   "source": [
    "from pinecone import ServerlessSpec\n",
    "\n",
    "from llama_index.vector_stores.pinecone import PineconeVectorStore\n",
    "from llama_index.core.tools import QueryEngineTool\n",
    "from dotenv import load_dotenv\n",
    "load_dotenv()"
   ]
  },
  {
   "cell_type": "code",
   "execution_count": 3,
   "metadata": {},
   "outputs": [],
   "source": [
    "openai_api_key = os.getenv(\"OPENAI_API_KEY\")\n",
    "pinecone_api_key = os.getenv(\"PINECONE_API_KEY\")\n",
    "toolhouse_api_key = os.getenv(\"TOOLHOUSE_API_KEY\")\n",
    "tavily_api_key = os.getenv(\"TAVILY_API_KEY\")"
   ]
  },
  {
   "cell_type": "code",
   "execution_count": 4,
   "metadata": {},
   "outputs": [],
   "source": [
    "Settings.llm = OpenAI(model=\"gpt-4o-mini\", temperature=0)"
   ]
  },
  {
   "cell_type": "code",
   "execution_count": 5,
   "metadata": {},
   "outputs": [],
   "source": [
    "# Defining the system prompt for the agent to reconcile column values\n",
    "system_prompt_agent = (\n",
    "    \"You are an AI assistant that helps reconcile inconsistent car data values in a dataset.\\n\"\n",
    "    \"For each value, analyze the column-level context provided.\\n\"\n",
    "    \"If different terms refer to the same entity (e.g., 'Chevy' and 'Chevrolet'), correct the value to the standard form.\\n\"\n",
    "    \"In this dataset, 'Chevy' and 'Chevrolet' refer to the same entity, so standardize all 'Chevy' values to 'Chevrolet'.\\n\"\n",
    "    \"Ensure the corrected value is consistent across all rows.\\n\"\n",
    "    \"Provide only the corrected value in JSON format without additional text.\\n\"\n",
    ")\n"
   ]
  },
  {
   "cell_type": "code",
   "execution_count": 6,
   "metadata": {},
   "outputs": [],
   "source": [
    "# %%\n",
    "agent = OpenAIAgent.from_tools(\n",
    "    llm=Settings.llm,\n",
    "    verbose=True,\n",
    "    system_prompt=system_prompt_agent,\n",
    "    memory=None\n",
    "    \n",
    ")"
   ]
  },
  {
   "cell_type": "code",
   "execution_count": 7,
   "metadata": {},
   "outputs": [],
   "source": [
    "def get_unique_values_by_index(dataset: pd.DataFrame, column_index: int):\n",
    "    return dataset.iloc[:, column_index].unique()"
   ]
  },
  {
   "cell_type": "code",
   "execution_count": 8,
   "metadata": {},
   "outputs": [],
   "source": [
    "def update_column_with_mapping(df, col_idx, mapping):\n",
    "        df.iloc[:, col_idx] = df.iloc[:, col_idx].map(mapping)\n",
    "        return df"
   ]
  },
  {
   "cell_type": "code",
   "execution_count": 9,
   "metadata": {},
   "outputs": [
    {
     "name": "stdout",
     "output_type": "stream",
     "text": [
      "Dataset with null values:\n",
      "   id          brand              model  model_year    milage      fuel_type  \\\n",
      "0   0           MINI      Cooper S Base      2007.0  213000.0       Gasoline   \n",
      "1   1        Lincoln              LS V8      2003.0  143250.0       Gasoline   \n",
      "2   2      Chevrolet  Silverado 2500 LT      2002.0  136731.0  E85 Flex Fuel   \n",
      "3   3        Genesis   G90 5.0 Ultimate      2017.0   19500.0       Gasoline   \n",
      "4   4  Mercedes-Benz        Metris Base      2021.0    7388.0       Gasoline   \n",
      "\n",
      "                                              engine  \\\n",
      "0       172.0HP 1.6L 4 Cylinder Engine Gasoline Fuel   \n",
      "1       252.0HP 3.9L 8 Cylinder Engine Gasoline Fuel   \n",
      "2  320.0HP 5.3L 8 Cylinder Engine Flex Fuel Capab...   \n",
      "3       420.0HP 5.0L 8 Cylinder Engine Gasoline Fuel   \n",
      "4       208.0HP 2.0L 4 Cylinder Engine Gasoline Fuel   \n",
      "\n",
      "                     transmission ext_col int_col  \\\n",
      "0                             A/T  Yellow    Gray   \n",
      "1                             A/T  Silver   Beige   \n",
      "2                             A/T    Blue    Gray   \n",
      "3  Transmission w/Dual Shift Mode   Black   Black   \n",
      "4                             NaN   Black   Beige   \n",
      "\n",
      "                                 accident  price  \n",
      "0                           None reported   4200  \n",
      "1  At least 1 accident or damage reported   4999  \n",
      "2                           None reported  13900  \n",
      "3                           None reported  45000  \n",
      "4                           None reported  97500  \n"
     ]
    }
   ],
   "source": [
    "# %%\n",
    "dataset_with_nulls = pd.read_csv('car_data_with_synonyms.csv').head(20)\n",
    "print(\"Dataset with null values:\")\n",
    "print(dataset_with_nulls.head())\n"
   ]
  },
  {
   "cell_type": "code",
   "execution_count": 16,
   "metadata": {},
   "outputs": [],
   "source": [
    "import json\n",
    "\n",
    "def enhance_values(agent, dataset: pd.DataFrame, column_index: int):\n",
    "    uniq = get_unique_values_by_index(dataset, column_index)\n",
    "    \n",
    "    # Convert unique values into a string representation\n",
    "    quote = list(map(lambda x: f\"'{x}'\", uniq))\n",
    "    mk_str = ', '.join(quote)\n",
    "    \n",
    "    # Build the query string to send to the agent\n",
    "    query_str = (\n",
    "        f\"I have a dataset of [{mk_str}]. Could you spot the same instances and build a map to remove duplicates? \"\n",
    "        \"Return only JSON mapping, no other text.\"\n",
    "    )\n",
    "    \n",
    "    # Reset the agent to avoid residual memory effects\n",
    "    agent.reset()\n",
    "    \n",
    "    try:\n",
    "        # Send the query to the agent and get the result\n",
    "        result = agent.chat(query_str).response\n",
    "        \n",
    "        # Print the raw response to debug\n",
    "        print(f\"Raw agent response: {result}\")\n",
    "        \n",
    "        # Clean the result by removing the ```json wrapper\n",
    "        if result.startswith(\"```json\"):\n",
    "            result = result.strip(\"```json\").strip(\"```\")\n",
    "        \n",
    "        # Parse the result as JSON (because result is a JSON string)\n",
    "        mapping = json.loads(result)\n",
    "        print(f\"Updating column '{column_index}' with mapping: {mapping}\")\n",
    "        \n",
    "        # Apply the mapping to update the specified column\n",
    "        dataset = update_column_with_mapping(dataset, column_index, mapping)\n",
    "        \n",
    "    except json.JSONDecodeError as e:\n",
    "        print(f\"Error parsing the agent response: {e}\")\n",
    "    \n",
    "    except Exception as e:\n",
    "        print(f\"An unexpected error occurred: {e}\")\n",
    "\n",
    "    return dataset\n"
   ]
  },
  {
   "cell_type": "code",
   "execution_count": 17,
   "metadata": {},
   "outputs": [
    {
     "name": "stdout",
     "output_type": "stream",
     "text": [
      "Added user message to memory: I have a dataset of ['MINI', 'Lincoln', 'Chevrolet', 'Genesis', 'Mercedes-Benz', 'Audi', 'Ford', 'BMW', 'Tesla', 'Cadillac', 'Land', 'GMC', 'Toyota', 'Hyundai', 'Volvo', 'Volkswagen', 'Buick', 'Rivian', 'RAM', 'Hummer', 'Alfa']. Could you spot the same instances and build a map to remove duplicates? Return only JSON mapping, no other text.\n",
      "Raw agent response: ```json\n",
      "{\n",
      "    \"MINI\": \"MINI\",\n",
      "    \"Lincoln\": \"Lincoln\",\n",
      "    \"Chevrolet\": \"Chevrolet\",\n",
      "    \"Genesis\": \"Genesis\",\n",
      "    \"Mercedes-Benz\": \"Mercedes-Benz\",\n",
      "    \"Audi\": \"Audi\",\n",
      "    \"Ford\": \"Ford\",\n",
      "    \"BMW\": \"BMW\",\n",
      "    \"Tesla\": \"Tesla\",\n",
      "    \"Cadillac\": \"Cadillac\",\n",
      "    \"Land\": \"Land\",\n",
      "    \"GMC\": \"GMC\",\n",
      "    \"Toyota\": \"Toyota\",\n",
      "    \"Hyundai\": \"Hyundai\",\n",
      "    \"Volvo\": \"Volvo\",\n",
      "    \"Volkswagen\": \"Volkswagen\",\n",
      "    \"Buick\": \"Buick\",\n",
      "    \"Rivian\": \"Rivian\",\n",
      "    \"RAM\": \"RAM\",\n",
      "    \"Hummer\": \"Hummer\",\n",
      "    \"Alfa\": \"Alfa\"\n",
      "}\n",
      "```\n",
      "Updating column '1' with mapping: {'MINI': 'MINI', 'Lincoln': 'Lincoln', 'Chevrolet': 'Chevrolet', 'Genesis': 'Genesis', 'Mercedes-Benz': 'Mercedes-Benz', 'Audi': 'Audi', 'Ford': 'Ford', 'BMW': 'BMW', 'Tesla': 'Tesla', 'Cadillac': 'Cadillac', 'Land': 'Land', 'GMC': 'GMC', 'Toyota': 'Toyota', 'Hyundai': 'Hyundai', 'Volvo': 'Volvo', 'Volkswagen': 'Volkswagen', 'Buick': 'Buick', 'Rivian': 'Rivian', 'RAM': 'RAM', 'Hummer': 'Hummer', 'Alfa': 'Alfa'}\n"
     ]
    }
   ],
   "source": [
    "completed_dataset = enhance_values(agent, dataset_with_nulls, column_index=1)"
   ]
  },
  {
   "cell_type": "code",
   "execution_count": 18,
   "metadata": {},
   "outputs": [
    {
     "name": "stdout",
     "output_type": "stream",
     "text": [
      "Completed dataset:\n",
      "   id          brand              model  model_year    milage      fuel_type  \\\n",
      "0   0           MINI      Cooper S Base      2007.0  213000.0       Gasoline   \n",
      "1   1        Lincoln              LS V8      2003.0  143250.0       Gasoline   \n",
      "2   2      Chevrolet  Silverado 2500 LT      2002.0  136731.0  E85 Flex Fuel   \n",
      "3   3        Genesis   G90 5.0 Ultimate      2017.0   19500.0       Gasoline   \n",
      "4   4  Mercedes-Benz        Metris Base      2021.0    7388.0       Gasoline   \n",
      "\n",
      "                                              engine  \\\n",
      "0       172.0HP 1.6L 4 Cylinder Engine Gasoline Fuel   \n",
      "1       252.0HP 3.9L 8 Cylinder Engine Gasoline Fuel   \n",
      "2  320.0HP 5.3L 8 Cylinder Engine Flex Fuel Capab...   \n",
      "3       420.0HP 5.0L 8 Cylinder Engine Gasoline Fuel   \n",
      "4       208.0HP 2.0L 4 Cylinder Engine Gasoline Fuel   \n",
      "\n",
      "                     transmission ext_col int_col  \\\n",
      "0                             A/T  Yellow    Gray   \n",
      "1                             A/T  Silver   Beige   \n",
      "2                             A/T    Blue    Gray   \n",
      "3  Transmission w/Dual Shift Mode   Black   Black   \n",
      "4                             NaN   Black   Beige   \n",
      "\n",
      "                                 accident  price  \n",
      "0                           None reported   4200  \n",
      "1  At least 1 accident or damage reported   4999  \n",
      "2                           None reported  13900  \n",
      "3                           None reported  45000  \n",
      "4                           None reported  97500  \n"
     ]
    }
   ],
   "source": [
    "completed_dataset.to_csv('completed_car_data2.csv', index=False)\n",
    "print(\"Completed dataset:\")\n",
    "print(completed_dataset.head())"
   ]
  }
 ],
 "metadata": {
  "kernelspec": {
   "display_name": "Python 3",
   "language": "python",
   "name": "python3"
  },
  "language_info": {
   "codemirror_mode": {
    "name": "ipython",
    "version": 3
   },
   "file_extension": ".py",
   "mimetype": "text/x-python",
   "name": "python",
   "nbconvert_exporter": "python",
   "pygments_lexer": "ipython3",
   "version": "3.12.4"
  }
 },
 "nbformat": 4,
 "nbformat_minor": 2
}
